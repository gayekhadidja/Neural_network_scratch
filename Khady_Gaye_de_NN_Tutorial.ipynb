{
  "nbformat": 4,
  "nbformat_minor": 0,
  "metadata": {
    "colab": {
      "provenance": []
    },
    "kernelspec": {
      "name": "python3",
      "display_name": "Python 3"
    },
    "language_info": {
      "name": "python"
    }
  },
  "cells": [
    {
      "cell_type": "code",
      "execution_count": null,
      "metadata": {
        "id": "yYaKNXEtP0Pm"
      },
      "outputs": [],
      "source": [
        "import numpy as np\n",
        "import pandas as pd\n",
        "import matplotlib.pyplot as plt\n",
        "from sklearn.model_selection import train_test_split\n",
        "np.random.seed(1)\n",
        "from IPython import display"
      ]
    },
    {
      "cell_type": "code",
      "source": [
        "\n",
        "path= '/content/diabetes.csv'\n",
        "data= pd.read_csv(path)\n",
        "data.shape"
      ],
      "metadata": {
        "colab": {
          "base_uri": "https://localhost:8080/"
        },
        "id": "pZ6cQNQ1P7Ib",
        "outputId": "7663456b-dd43-41b2-ffef-6819ec9b5ed0"
      },
      "execution_count": null,
      "outputs": [
        {
          "output_type": "execute_result",
          "data": {
            "text/plain": [
              "(768, 9)"
            ]
          },
          "metadata": {},
          "execution_count": 2
        }
      ]
    },
    {
      "cell_type": "code",
      "source": [
        "from google.colab import drive\n",
        "drive.mount('/content/drive')\n",
        "data = pd.read_csv('/content/drive/MyDrive/diabetes.csv')\n",
        "data = data.to_numpy()"
      ],
      "metadata": {
        "colab": {
          "base_uri": "https://localhost:8080/"
        },
        "id": "MubBe3_p_gt5",
        "outputId": "6fbd6deb-5faa-4546-8097-b192ed656b6d"
      },
      "execution_count": null,
      "outputs": [
        {
          "output_type": "stream",
          "name": "stdout",
          "text": [
            "Drive already mounted at /content/drive; to attempt to forcibly remount, call drive.mount(\"/content/drive\", force_remount=True).\n"
          ]
        }
      ]
    },
    {
      "cell_type": "code",
      "source": [
        "def scale(df):\n",
        "  \"\"\"\n",
        "  Parameters\n",
        "  -------\n",
        "    x: dataframe\n",
        "\n",
        "  Returns\n",
        "  -------\n",
        "    x_scaled: dataframe\n",
        "\n",
        "  \"\"\"\n",
        "  x = data[:,:-1]\n",
        "  x_scaled= (x- np.mean(x,axis= 0))/np.std(x,axis= 0)\n",
        "\n",
        "  return x_scaled"
      ],
      "metadata": {
        "id": "YZR3a0LDQDaT"
      },
      "execution_count": null,
      "outputs": []
    },
    {
      "cell_type": "code",
      "source": [
        "def split_data(df, train_percent= 0.8):\n",
        "  \"\"\"\n",
        "  Parameters\n",
        "  -------\n",
        "    df: a dataframe\n",
        "    train_percent: a float\n",
        "\n",
        "\n",
        "  Returns\n",
        "  -------\n",
        "\n",
        "\n",
        "    x_train: an array\n",
        "    x_test: an array\n",
        "    y_train: an array\n",
        "    y_test: an array\n",
        "\n",
        "  \"\"\"\n",
        "  x_scale = scale(data)\n",
        "  y = data[:,-1]\n",
        "  #y = y.reshape(-1,1)\n",
        "  n = x_scale.shape[0]\n",
        "  indices = np.arange(n)\n",
        "  data_suffle = np.random.permutation(data)\n",
        "  n,m = data_suffle.shape\n",
        "  train_idx = indices[:round(n*train_percent)]\n",
        "  test_idx = indices[round(n*train_percent):]\n",
        "  x_train = x_scale[train_idx]\n",
        "  y_train = y[train_idx]\n",
        "  x_test = x_scale[test_idx]\n",
        "  y_test = y[test_idx]\n",
        "\n",
        "  return x_train, x_test ,y_train ,y_test"
      ],
      "metadata": {
        "id": "uE20qrSCQUuw"
      },
      "execution_count": null,
      "outputs": []
    },
    {
      "cell_type": "code",
      "source": [
        "x_train, x_test ,y_train ,y_test= split_data(data, train_percent= 0.8)\n",
        "x_train.shape, x_test.shape, y_train.shape ,y_test.shape"
      ],
      "metadata": {
        "colab": {
          "base_uri": "https://localhost:8080/"
        },
        "id": "fEG4XVJIx0eb",
        "outputId": "0c395363-ae46-489d-8dc6-131fe4a102ac"
      },
      "execution_count": null,
      "outputs": [
        {
          "output_type": "execute_result",
          "data": {
            "text/plain": [
              "((614, 8), (154, 8), (614,), (154,))"
            ]
          },
          "metadata": {},
          "execution_count": 6
        }
      ]
    },
    {
      "cell_type": "code",
      "source": [
        "def sigmoid(x):\n",
        "  \"\"\"\n",
        "  Parameters\n",
        "  ----------\n",
        "    x: an array\n",
        "\n",
        "  return\n",
        "  ------\n",
        "\n",
        "    y: 1/(1+exp(-x))\n",
        "\n",
        "      a list of value between 0 and 1\n",
        "\n",
        "  \"\"\"\n",
        "  sigmoid = 1/(1+np.exp(-x))\n",
        "  return sigmoid"
      ],
      "metadata": {
        "id": "cnkR9elPQvS3"
      },
      "execution_count": null,
      "outputs": []
    },
    {
      "cell_type": "code",
      "source": [
        "def dsigmoid(x):\n",
        "  \"\"\"\n",
        "  Parameters\n",
        "  ----------\n",
        "    x: an array\n",
        "\n",
        "  return\n",
        "  ------\n",
        "\n",
        "    y: sigmoid(x)*(1- sigmoid(x))\n",
        "\n",
        "      a list of value of the derivative of sigmoid\n",
        "  \"\"\"\n",
        "\n",
        "  dsigmoid = sigmoid(x)*(1-sigmoid)\n",
        "  return dsigmoid"
      ],
      "metadata": {
        "id": "nyaJzqQjQu7M"
      },
      "execution_count": null,
      "outputs": []
    },
    {
      "cell_type": "code",
      "source": [
        "def cross_entropy(y,y_pred):\n",
        "  \"\"\"\n",
        "  Parameters\n",
        "  ----------\n",
        "    y: an array\n",
        "    y_pred: array\n",
        "\n",
        "  return\n",
        "  ------\n",
        "   : float\n",
        "  \"\"\"\n",
        "  loss= -np.mean(y*np.log(y_pred)+(1-y)*np.log(1-y_pred))\n",
        "  return loss"
      ],
      "metadata": {
        "id": "SBH8s6GBRAbh"
      },
      "execution_count": null,
      "outputs": []
    },
    {
      "cell_type": "code",
      "source": [
        "def forward_pass(x, w1, b1, w2, b2):\n",
        "  \"\"\"\n",
        "  Parameters\n",
        "  ---------\n",
        "    x: an array of N rows\n",
        "    w1: an array of shape (hidden_dim, input_dim)\n",
        "    b1: an array of shape (hidden_dim, 1). Bias vector\n",
        "    w2: an array of shape (output_dim, hidden_dim)\n",
        "    b2: an array of shape (1, 1)\n",
        "\n",
        "  Return\n",
        "  ------\n",
        "    z1: an array of shape (N, hidden_dim)\n",
        "    a1: an array of shape (N, hidden_dim)\n",
        "    z2: an array of shape (N, output_dim)\n",
        "    a2: an array of shape (N, output_dim)\n",
        "  \"\"\"\n",
        "  z1= w1@x.T + b1\n",
        "  a1= sigmoid(z1)\n",
        "\n",
        "  z2= w2@ a1 + b2\n",
        "  a2= sigmoid(z2)\n",
        "\n",
        "\n",
        "  return z1, a1, z2, a2"
      ],
      "metadata": {
        "id": "2TsS0tmbRuVx"
      },
      "execution_count": null,
      "outputs": []
    },
    {
      "cell_type": "code",
      "source": [
        "def backwardpass(x,y, w1, b1, w2, b2):\n",
        "  \"\"\"\n",
        "  Parameters\n",
        "  ---------\n",
        "    x:  an array of N rows\n",
        "    y:  an array of N rows\n",
        "    w1: an array of shape (hidden_dim, input_dim)\n",
        "    b1: an array of shape (hidden_dim, 1). Bias vector\n",
        "    w2: an array of shape (output_dim, hidden_dim)\n",
        "    b2: an array of shape (1, 1)\n",
        "\n",
        "  Return\n",
        "  ------\n",
        "    dw1: an array of shape (hidden_dim, input_dim)\n",
        "    db1: an array of shape (hidden_dim, 1). Bias vector\n",
        "    dw2: an array of shape (output_dim, hidden_dim)\n",
        "    db2: an array of shape (1, 1)\n",
        "  \"\"\"\n",
        "\n",
        "  # Forward pass\n",
        "  z1, a1, z2, a2=forward_pass(x, w1, b1, w2, b2)\n",
        "\n",
        "  #Backward\n",
        "  dz2=(1/x.shape[0])*(a2-y)\n",
        "  dw2= dz2@a1.T\n",
        "  db2= (1/x.shape[0])* np.sum(dz2,axis =1,keepdims=True)\n",
        "\n",
        "\n",
        "\n",
        "  dz1 = w2.T@ dz2 * a1*(1-a1)\n",
        "  dw1= dz1 @ x\n",
        "  db1= np.sum(dz1,axis=1 , keepdims= True)\n",
        "\n",
        "  return dw1, db1, dw2, db2"
      ],
      "metadata": {
        "id": "R8i_pToSSXVp"
      },
      "execution_count": null,
      "outputs": []
    },
    {
      "cell_type": "code",
      "source": [
        "def train(x,y, x_val, y_val):\n",
        "  \"\"\"\n",
        "  Parameters\n",
        "  ---------\n",
        "    x:  an array of N rows\n",
        "    y:  an array of N rows\n",
        "    w1: an array of shape (hidden_dim, input_dim)\n",
        "    b1: an array of shape (hidden_dim, 1). Bias vector\n",
        "    w2: an array of shape (output_dim, hidden_dim)\n",
        "    b2: an array of shape (1, 1)\n",
        "\n",
        "  Return\n",
        "  ------\n",
        "    cost: an array of shape (num_epochs, )\n",
        "    cost_test: an array of shape (num_epochs, ).\n",
        "    w1: an array of shape (hidden_dim, input_dim)\n",
        "    b1: an array of shape (hidden_dim, 1). Bias vector\n",
        "    w2: an array of shape (output_dim, hidden_dim)\n",
        "    b2: an array of shape (1, 1)\n",
        "  \"\"\"\n",
        "  input_dim= x.shape[1] # number of features\n",
        "  hidden_dim= 16 # number of units in the hideen layer\n",
        "  output_dim= 1 # number of units in the output layer\n",
        "  w1 = np.random.rand(hidden_dim, input_dim)*0.01 # (hidden_dim, input_dim)\n",
        "  b1 = np.random.rand(hidden_dim, 1) # (hidden_dim, 1)\n",
        "\n",
        "  w2 = np.random.rand(output_dim, hidden_dim)*0.01 # (output_dim, hidden_dim)\n",
        "  b2 = np.random.rand(output_dim, 1) # (output_dim, 1)\n",
        "  lr = 0.001\n",
        "  num_epochs = 1000\n",
        "\n",
        "  cost =[]\n",
        "  cost_test= []\n",
        "\n",
        "  for i in range(num_epochs):\n",
        "      # Backward Pass\n",
        "      dw1, db1, dw2, db2 = backwardpass(x,y, w1, b1, w2, b2)\n",
        "\n",
        "      # Update weights\n",
        "      w1 = w1 - lr*dw1\n",
        "      b1 = b1 - lr* db1\n",
        "\n",
        "\n",
        "      w2 = w2 - lr*dw2\n",
        "      b2=  b2 - lr*b2\n",
        "\n",
        "      # Get the Train Loss\n",
        "      # apply forward to get z1, a1, z2 and a2\n",
        "      z1, a1, z2, a2 = forward_pass(x, w1, b1, w2, b2)\n",
        "\n",
        "      #Compute the loss\n",
        "      loss_tain = cross_entropy(y,a2)\n",
        "      cost.append(loss_tain)\n",
        "\n",
        "\n",
        "      # Get the Test Loss\n",
        "      # apply forward to get z1, a1, z2 and a2 using x_val\n",
        "\n",
        "      z1, a1, z2, a2_val = forward_pass(x_val, w1, b1, w2, b2)\n",
        "      loss_test =  cross_entropy(y_val,a2_val)\n",
        "      cost_test.append(loss_test)\n",
        "\n",
        "  return cost, cost_test, w1, b1, w2, b2"
      ],
      "metadata": {
        "id": "FqiK4uIhSaAw"
      },
      "execution_count": null,
      "outputs": []
    },
    {
      "cell_type": "code",
      "source": [
        "cost, cost_test, w1, b1, w2, b2 = train(x_train,y_train,x_test, y_test)"
      ],
      "metadata": {
        "id": "CTFoGmm6UKyZ"
      },
      "execution_count": null,
      "outputs": []
    },
    {
      "cell_type": "code",
      "source": [
        "def accuracy(y, y_pred):\n",
        "  acc= np.mean(y == y_pred)*100\n",
        "  return acc"
      ],
      "metadata": {
        "id": "n6LNhbbOStNm"
      },
      "execution_count": null,
      "outputs": []
    },
    {
      "cell_type": "code",
      "source": [
        "threshold= 0.5\n",
        "def get_class(x):\n",
        "  _,_,_,proba= forward_pass(x, w1, b1, w2, b2) # Get probability of x\n",
        "  proba= proba.squeeze(0)\n",
        "  result= [1 if i> threshold else 0 for i in proba] # Convert proba to 0 or 1. hint: list comprehension\n",
        "  return np.array(result), proba"
      ],
      "metadata": {
        "id": "VTeTNcFEVf2N"
      },
      "execution_count": null,
      "outputs": []
    },
    {
      "cell_type": "code",
      "source": [
        "cost, cost_test, w1, b1, w2, b2= train(x_train,y_train, x_test, y_test)"
      ],
      "metadata": {
        "id": "uurTCEclScpu"
      },
      "execution_count": null,
      "outputs": []
    },
    {
      "cell_type": "code",
      "source": [
        "def plot(cost, cost_test):\n",
        "  plt.xlabel('Epochs')\n",
        "  plt.ylabel('Cost')\n",
        "  plt.plot(np.arange(len(cost)), cost, 'r', linewidth = \"2\", label= 'Train Loss')\n",
        "  plt.plot(np.arange(len(cost_test)), cost_test, 'b', linewidth = \"2\", label= 'Validation Loss')\n",
        "  plt.legend()\n",
        "  plt.show()\n",
        "\n",
        "plot(cost, cost_test)"
      ],
      "metadata": {
        "colab": {
          "base_uri": "https://localhost:8080/",
          "height": 300
        },
        "id": "oYAvfW1uShKe",
        "outputId": "a1d260c4-a064-4914-ac2f-36e87415ff8c"
      },
      "execution_count": null,
      "outputs": [
        {
          "output_type": "display_data",
          "data": {
            "text/plain": [
              "<Figure size 432x288 with 1 Axes>"
            ],
            "image/png": "[encoded data removed]"
          },
          "metadata": {
            "needs_background": "light"
          }
        }
      ]
    },
    {
      "cell_type": "code",
      "source": [
        "y_pred, y_proba= get_class(x_test)"
      ],
      "metadata": {
        "id": "iykwA03WVlna"
      },
      "execution_count": null,
      "outputs": []
    },
    {
      "cell_type": "code",
      "source": [
        "accuracy(y_test, y_pred)"
      ],
      "metadata": {
        "colab": {
          "base_uri": "https://localhost:8080/"
        },
        "id": "Ebun_QC3S0d9",
        "outputId": "c242c6a5-22be-4e76-f614-6b2d6e5300a5"
      },
      "execution_count": null,
      "outputs": [
        {
          "output_type": "execute_result",
          "data": {
            "text/plain": [
              "64.28571428571429"
            ]
          },
          "metadata": {},
          "execution_count": 19
        }
      ]
    },
    {
      "cell_type": "markdown",
      "source": [
        "# NN Class"
      ],
      "metadata": {
        "id": "7G7QcBAW2RGr"
      }
    },
    {
      "cell_type": "code",
      "source": [
        "# BGD\n",
        "class NN:\n",
        "  def __init__(self, x_test, y_test, size, num_epochs= 1000, lr= 0.001, threshold= 0.5):\n",
        "    self.num_epochs= num_epochs\n",
        "    self.lr= lr\n",
        "    self.threshold= threshold\n",
        "    self.cost_train= []\n",
        "    self.size= size\n",
        "    self.x_test= x_test\n",
        "    self.y_test= y_test\n",
        "    self.params= self.weight_initialization()\n",
        "\n",
        "  def sigmoid(self,x):\n",
        "    return sigmoid(x)\n",
        "\n",
        "  def dsigmoid(self,x):\n",
        "    return dsigmoid(x)\n",
        "\n",
        "\n",
        "  def cross_entropy(self,y,y_pred):\n",
        "    loss= cross_entropy(y,y_pred)\n",
        "    return loss\n",
        "\n",
        "  def weight_initialization(self):\n",
        "    input_dim= self.size[0]\n",
        "    hidden_dim= self.size[1]\n",
        "    output_dim= self.size[2]\n",
        "\n",
        "\n",
        "    params = {\n",
        "            'w1':np.random.rand(hidden_dim, input_dim)*0.01,\n",
        "            'b1':np.random.rand(hidden_dim ,1),\n",
        "            'w2':np.random.rand(output_dim, hidden_dim)*0.01,\n",
        "            'b2':np.random.rand(1,1)\n",
        "        }\n",
        "\n",
        "    return params\n",
        "\n",
        "  def forward_pass(self, x):\n",
        "    params= self.params\n",
        "\n",
        "\n",
        "    # ForwardPass\n",
        "    z1, a1, z2, a2 = forward_pass(x, params['w1'],params['b1'],params['w2'], params['b2'])\n",
        "\n",
        "    return z1, a1, z2, a2\n",
        "\n",
        "  def backward_pass(self, x, y):\n",
        "    params= self.params\n",
        "\n",
        "\n",
        "\n",
        "    # Backward\n",
        "\n",
        "    dw1, db1, dw2, db2 = backwardpass(x,y, params['w1'],params['b1'],params['w2'], params['b2'])\n",
        "\n",
        "    return dw1, db1, dw2, db2\n",
        "\n",
        "  def fit(self, x, y):\n",
        "\n",
        "\n",
        "    for i in range(self.num_epochs):\n",
        "\n",
        "      # Get Params\n",
        "      params= self.params\n",
        "      dw1, db1, dw2, db2 = self.backward_pass(x, y)\n",
        "\n",
        "\n",
        "      params['w1']= params['w1'] - self.lr* dw1\n",
        "      params['b1']= params['b1'] - self.lr * db1\n",
        "\n",
        "      params['w2']= params['w2'] - self.lr *dw2\n",
        "      params['b2']= params['b2'] - self.lr * db2\n",
        "\n",
        "      #forward propagation\n",
        "      z1, a1, z2, a2 = self.forward_pass(x)\n",
        "\n",
        "      #loss function\n",
        "      loss = self.cross_entropy(y,a2)\n",
        "      self.cost_train.append(loss)\n",
        "\n",
        "\n",
        "\n",
        "\n",
        "  def get_class(self, x):\n",
        "    w1, b1, w2, b2= self.params['w1'], self.params['b1'], self.params['w2'], self.params['b2']\n",
        "    _,_,_,proba= self.forward_pass(x)\n",
        "    proba= proba.squeeze(0)\n",
        "    result= [1 if i> threshold else 0 for i in proba] # Convert proba to 0 or 1. hint: list comprehension\n",
        "    return np.array(result), proba\n",
        "\n",
        "  def accuracy(self, y,y_pred):\n",
        "    return accuracy(y, y_pred)\n",
        "  def plot(self):\n",
        "    plt.xlabel('Epochs')\n",
        "    plt.ylabel('Cost')\n",
        "    plt.plot(np.arange(len(self.cost_train)), self.cost_train, 'r', linewidth = \"2\", label= 'Train Loss')\n",
        "    plt.legend()\n",
        "    plt.show()"
      ],
      "metadata": {
        "id": "YtAjnH9x2QCe"
      },
      "execution_count": null,
      "outputs": []
    },
    {
      "cell_type": "code",
      "source": [
        "size= [x_train.shape[1], 16, 1]\n",
        "model= NN(x_test, y_test, size, num_epochs= 2000, lr= 0.001)"
      ],
      "metadata": {
        "id": "9cH4O9nO2hnI"
      },
      "execution_count": null,
      "outputs": []
    },
    {
      "cell_type": "code",
      "source": [
        "model.fit(x_train, y_train)"
      ],
      "metadata": {
        "id": "X_p1jP592kBF"
      },
      "execution_count": null,
      "outputs": []
    },
    {
      "cell_type": "code",
      "source": [
        "model.plot()"
      ],
      "metadata": {
        "colab": {
          "base_uri": "https://localhost:8080/",
          "height": 301
        },
        "id": "rwoOWZR_2oqv",
        "outputId": "aaa40114-546b-4984-8168-f63613cf7c87"
      },
      "execution_count": null,
      "outputs": [
        {
          "output_type": "display_data",
          "data": {
            "text/plain": [
              "<Figure size 432x288 with 1 Axes>"
            ],
            "image/png": "[encoded data removed]"
          },
          "metadata": {
            "needs_background": "light"
          }
        }
      ]
    },
    {
      "cell_type": "code",
      "source": [
        "y_pred= model.get_class(x_test)"
      ],
      "metadata": {
        "id": "vykN3yqw2sNZ"
      },
      "execution_count": null,
      "outputs": []
    },
    {
      "cell_type": "code",
      "source": [
        "model.accuracy(y_pred, y_test)"
      ],
      "metadata": {
        "colab": {
          "base_uri": "https://localhost:8080/"
        },
        "id": "XUe7moBv2uWN",
        "outputId": "d2738f36-9364-4aa2-d908-ad230647100d"
      },
      "execution_count": null,
      "outputs": [
        {
          "output_type": "execute_result",
          "data": {
            "text/plain": [
              "32.142857142857146"
            ]
          },
          "metadata": {},
          "execution_count": 39
        }
      ]
    },
    {
      "cell_type": "code",
      "source": [],
      "metadata": {
        "id": "XMDm8KbXB4Z1"
      },
      "execution_count": null,
      "outputs": []
    }
  ]
}